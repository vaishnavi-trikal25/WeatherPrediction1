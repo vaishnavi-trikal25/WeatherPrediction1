{
 "cells": [
  {
   "cell_type": "code",
   "execution_count": 1,
   "id": "0282c669",
   "metadata": {},
   "outputs": [],
   "source": [
    "#importing necessary  libraries \n",
    "import numpy as np  \n",
    "import pandas as pd \n",
    "import matplotlib.pyplot as plt\n",
    "import seaborn as sns"
   ]
  },
  {
   "cell_type": "code",
   "execution_count": 2,
   "id": "9023ca12",
   "metadata": {},
   "outputs": [
    {
     "data": {
      "text/html": [
       "<div>\n",
       "<style scoped>\n",
       "    .dataframe tbody tr th:only-of-type {\n",
       "        vertical-align: middle;\n",
       "    }\n",
       "\n",
       "    .dataframe tbody tr th {\n",
       "        vertical-align: top;\n",
       "    }\n",
       "\n",
       "    .dataframe thead th {\n",
       "        text-align: right;\n",
       "    }\n",
       "</style>\n",
       "<table border=\"1\" class=\"dataframe\">\n",
       "  <thead>\n",
       "    <tr style=\"text-align: right;\">\n",
       "      <th></th>\n",
       "      <th>date</th>\n",
       "      <th>precipitation</th>\n",
       "      <th>temp_max</th>\n",
       "      <th>temp_min</th>\n",
       "      <th>wind_speed</th>\n",
       "      <th>weather</th>\n",
       "    </tr>\n",
       "  </thead>\n",
       "  <tbody>\n",
       "    <tr>\n",
       "      <th>0</th>\n",
       "      <td>04-01-2012</td>\n",
       "      <td>1.5</td>\n",
       "      <td>8.9</td>\n",
       "      <td>4.4</td>\n",
       "      <td>6.8</td>\n",
       "      <td>rain</td>\n",
       "    </tr>\n",
       "    <tr>\n",
       "      <th>1</th>\n",
       "      <td>04-02-2012</td>\n",
       "      <td>0.0</td>\n",
       "      <td>16.7</td>\n",
       "      <td>4.4</td>\n",
       "      <td>3.1</td>\n",
       "      <td>sun</td>\n",
       "    </tr>\n",
       "    <tr>\n",
       "      <th>2</th>\n",
       "      <td>04-03-2012</td>\n",
       "      <td>1.5</td>\n",
       "      <td>11.7</td>\n",
       "      <td>3.3</td>\n",
       "      <td>3.1</td>\n",
       "      <td>rain</td>\n",
       "    </tr>\n",
       "    <tr>\n",
       "      <th>3</th>\n",
       "      <td>04-04-2012</td>\n",
       "      <td>0.0</td>\n",
       "      <td>10.6</td>\n",
       "      <td>2.8</td>\n",
       "      <td>2.1</td>\n",
       "      <td>sun</td>\n",
       "    </tr>\n",
       "    <tr>\n",
       "      <th>4</th>\n",
       "      <td>04-05-2012</td>\n",
       "      <td>4.6</td>\n",
       "      <td>9.4</td>\n",
       "      <td>2.8</td>\n",
       "      <td>1.8</td>\n",
       "      <td>snow</td>\n",
       "    </tr>\n",
       "    <tr>\n",
       "      <th>5</th>\n",
       "      <td>04-06-2012</td>\n",
       "      <td>0.3</td>\n",
       "      <td>11.1</td>\n",
       "      <td>3.3</td>\n",
       "      <td>2.6</td>\n",
       "      <td>rain</td>\n",
       "    </tr>\n",
       "    <tr>\n",
       "      <th>6</th>\n",
       "      <td>04-07-2012</td>\n",
       "      <td>0.0</td>\n",
       "      <td>16.1</td>\n",
       "      <td>1.7</td>\n",
       "      <td>4.3</td>\n",
       "      <td>sun</td>\n",
       "    </tr>\n",
       "    <tr>\n",
       "      <th>7</th>\n",
       "      <td>04-08-2012</td>\n",
       "      <td>0.0</td>\n",
       "      <td>21.1</td>\n",
       "      <td>7.2</td>\n",
       "      <td>4.1</td>\n",
       "      <td>sun</td>\n",
       "    </tr>\n",
       "    <tr>\n",
       "      <th>8</th>\n",
       "      <td>04-09-2012</td>\n",
       "      <td>0.0</td>\n",
       "      <td>20.0</td>\n",
       "      <td>6.1</td>\n",
       "      <td>2.1</td>\n",
       "      <td>sun</td>\n",
       "    </tr>\n",
       "    <tr>\n",
       "      <th>9</th>\n",
       "      <td>04-10-2012</td>\n",
       "      <td>0.0</td>\n",
       "      <td>17.8</td>\n",
       "      <td>8.9</td>\n",
       "      <td>3.2</td>\n",
       "      <td>rain</td>\n",
       "    </tr>\n",
       "    <tr>\n",
       "      <th>10</th>\n",
       "      <td>04-11-2012</td>\n",
       "      <td>2.3</td>\n",
       "      <td>11.1</td>\n",
       "      <td>7.2</td>\n",
       "      <td>2.6</td>\n",
       "      <td>rain</td>\n",
       "    </tr>\n",
       "    <tr>\n",
       "      <th>11</th>\n",
       "      <td>04-12-2012</td>\n",
       "      <td>0.5</td>\n",
       "      <td>13.9</td>\n",
       "      <td>5.6</td>\n",
       "      <td>2.6</td>\n",
       "      <td>rain</td>\n",
       "    </tr>\n",
       "    <tr>\n",
       "      <th>12</th>\n",
       "      <td>4/13/2012</td>\n",
       "      <td>0.0</td>\n",
       "      <td>15.0</td>\n",
       "      <td>3.9</td>\n",
       "      <td>4.0</td>\n",
       "      <td>drizzle</td>\n",
       "    </tr>\n",
       "    <tr>\n",
       "      <th>13</th>\n",
       "      <td>4/14/2012</td>\n",
       "      <td>0.0</td>\n",
       "      <td>15.6</td>\n",
       "      <td>3.3</td>\n",
       "      <td>3.0</td>\n",
       "      <td>sun</td>\n",
       "    </tr>\n",
       "    <tr>\n",
       "      <th>14</th>\n",
       "      <td>4/15/2012</td>\n",
       "      <td>0.0</td>\n",
       "      <td>16.1</td>\n",
       "      <td>7.2</td>\n",
       "      <td>2.9</td>\n",
       "      <td>rain</td>\n",
       "    </tr>\n",
       "    <tr>\n",
       "      <th>15</th>\n",
       "      <td>4/16/2012</td>\n",
       "      <td>8.1</td>\n",
       "      <td>13.3</td>\n",
       "      <td>6.7</td>\n",
       "      <td>5.8</td>\n",
       "      <td>rain</td>\n",
       "    </tr>\n",
       "    <tr>\n",
       "      <th>16</th>\n",
       "      <td>4/17/2012</td>\n",
       "      <td>1.8</td>\n",
       "      <td>10.0</td>\n",
       "      <td>4.4</td>\n",
       "      <td>2.0</td>\n",
       "      <td>rain</td>\n",
       "    </tr>\n",
       "    <tr>\n",
       "      <th>17</th>\n",
       "      <td>4/18/2012</td>\n",
       "      <td>1.8</td>\n",
       "      <td>13.3</td>\n",
       "      <td>7.2</td>\n",
       "      <td>3.9</td>\n",
       "      <td>rain</td>\n",
       "    </tr>\n",
       "    <tr>\n",
       "      <th>18</th>\n",
       "      <td>4/19/2012</td>\n",
       "      <td>10.9</td>\n",
       "      <td>13.9</td>\n",
       "      <td>5.0</td>\n",
       "      <td>2.6</td>\n",
       "      <td>rain</td>\n",
       "    </tr>\n",
       "    <tr>\n",
       "      <th>19</th>\n",
       "      <td>4/20/2012</td>\n",
       "      <td>6.6</td>\n",
       "      <td>13.3</td>\n",
       "      <td>6.7</td>\n",
       "      <td>2.7</td>\n",
       "      <td>rain</td>\n",
       "    </tr>\n",
       "    <tr>\n",
       "      <th>20</th>\n",
       "      <td>4/21/2012</td>\n",
       "      <td>0.0</td>\n",
       "      <td>20.0</td>\n",
       "      <td>4.4</td>\n",
       "      <td>2.3</td>\n",
       "      <td>sun</td>\n",
       "    </tr>\n",
       "    <tr>\n",
       "      <th>21</th>\n",
       "      <td>4/22/2012</td>\n",
       "      <td>0.0</td>\n",
       "      <td>23.3</td>\n",
       "      <td>8.3</td>\n",
       "      <td>2.6</td>\n",
       "      <td>rain</td>\n",
       "    </tr>\n",
       "    <tr>\n",
       "      <th>22</th>\n",
       "      <td>4/23/2012</td>\n",
       "      <td>0.0</td>\n",
       "      <td>21.7</td>\n",
       "      <td>8.9</td>\n",
       "      <td>3.5</td>\n",
       "      <td>sun</td>\n",
       "    </tr>\n",
       "    <tr>\n",
       "      <th>23</th>\n",
       "      <td>4/24/2012</td>\n",
       "      <td>4.3</td>\n",
       "      <td>13.9</td>\n",
       "      <td>10.0</td>\n",
       "      <td>2.8</td>\n",
       "      <td>rain</td>\n",
       "    </tr>\n",
       "    <tr>\n",
       "      <th>24</th>\n",
       "      <td>4/25/2012</td>\n",
       "      <td>10.7</td>\n",
       "      <td>16.7</td>\n",
       "      <td>8.9</td>\n",
       "      <td>2.6</td>\n",
       "      <td>rain</td>\n",
       "    </tr>\n",
       "    <tr>\n",
       "      <th>25</th>\n",
       "      <td>4/26/2012</td>\n",
       "      <td>3.8</td>\n",
       "      <td>13.9</td>\n",
       "      <td>6.7</td>\n",
       "      <td>5.2</td>\n",
       "      <td>rain</td>\n",
       "    </tr>\n",
       "    <tr>\n",
       "      <th>26</th>\n",
       "      <td>4/27/2012</td>\n",
       "      <td>0.8</td>\n",
       "      <td>13.3</td>\n",
       "      <td>6.1</td>\n",
       "      <td>4.8</td>\n",
       "      <td>rain</td>\n",
       "    </tr>\n",
       "    <tr>\n",
       "      <th>27</th>\n",
       "      <td>4/28/2012</td>\n",
       "      <td>0.0</td>\n",
       "      <td>16.1</td>\n",
       "      <td>8.3</td>\n",
       "      <td>2.5</td>\n",
       "      <td>drizzle</td>\n",
       "    </tr>\n",
       "    <tr>\n",
       "      <th>28</th>\n",
       "      <td>4/29/2012</td>\n",
       "      <td>4.3</td>\n",
       "      <td>15.6</td>\n",
       "      <td>8.9</td>\n",
       "      <td>1.6</td>\n",
       "      <td>rain</td>\n",
       "    </tr>\n",
       "    <tr>\n",
       "      <th>29</th>\n",
       "      <td>4/30/2012</td>\n",
       "      <td>4.3</td>\n",
       "      <td>12.8</td>\n",
       "      <td>7.2</td>\n",
       "      <td>8.0</td>\n",
       "      <td>rain</td>\n",
       "    </tr>\n",
       "  </tbody>\n",
       "</table>\n",
       "</div>"
      ],
      "text/plain": [
       "                            date  precipitation  temp_max  temp_min  \\\n",
       "0                     04-01-2012            1.5       8.9       4.4   \n",
       "1                     04-02-2012            0.0      16.7       4.4   \n",
       "2                     04-03-2012            1.5      11.7       3.3   \n",
       "3                     04-04-2012            0.0      10.6       2.8   \n",
       "4                     04-05-2012            4.6       9.4       2.8   \n",
       "5                     04-06-2012            0.3      11.1       3.3   \n",
       "6                     04-07-2012            0.0      16.1       1.7   \n",
       "7                     04-08-2012            0.0      21.1       7.2   \n",
       "8                     04-09-2012            0.0      20.0       6.1   \n",
       "9                     04-10-2012            0.0      17.8       8.9   \n",
       "10                    04-11-2012            2.3      11.1       7.2   \n",
       "11                    04-12-2012            0.5      13.9       5.6   \n",
       "12                     4/13/2012            0.0      15.0       3.9   \n",
       "13                     4/14/2012            0.0      15.6       3.3   \n",
       "14                     4/15/2012            0.0      16.1       7.2   \n",
       "15                     4/16/2012            8.1      13.3       6.7   \n",
       "16                     4/17/2012            1.8      10.0       4.4   \n",
       "17                     4/18/2012            1.8      13.3       7.2   \n",
       "18                     4/19/2012           10.9      13.9       5.0   \n",
       "19                     4/20/2012            6.6      13.3       6.7   \n",
       "20                     4/21/2012            0.0      20.0       4.4   \n",
       "21                     4/22/2012            0.0      23.3       8.3   \n",
       "22                     4/23/2012            0.0      21.7       8.9   \n",
       "23                     4/24/2012            4.3      13.9      10.0   \n",
       "24                     4/25/2012           10.7      16.7       8.9   \n",
       "25                     4/26/2012            3.8      13.9       6.7   \n",
       "26                     4/27/2012            0.8      13.3       6.1   \n",
       "27                     4/28/2012            0.0      16.1       8.3   \n",
       "28                     4/29/2012            4.3      15.6       8.9   \n",
       "29                     4/30/2012            4.3      12.8       7.2   \n",
       "\n",
       "                wind_speed  weather  \n",
       "0                      6.8     rain  \n",
       "1                      3.1      sun  \n",
       "2                      3.1     rain  \n",
       "3                      2.1      sun  \n",
       "4                      1.8     snow  \n",
       "5                      2.6     rain  \n",
       "6                      4.3      sun  \n",
       "7                      4.1      sun  \n",
       "8                      2.1      sun  \n",
       "9                      3.2     rain  \n",
       "10                     2.6     rain  \n",
       "11                     2.6     rain  \n",
       "12                     4.0  drizzle  \n",
       "13                     3.0      sun  \n",
       "14                     2.9     rain  \n",
       "15                     5.8     rain  \n",
       "16                     2.0     rain  \n",
       "17                     3.9     rain  \n",
       "18                     2.6     rain  \n",
       "19                     2.7     rain  \n",
       "20                     2.3      sun  \n",
       "21                     2.6     rain  \n",
       "22                     3.5      sun  \n",
       "23                     2.8     rain  \n",
       "24                     2.6     rain  \n",
       "25                     5.2     rain  \n",
       "26                     4.8     rain  \n",
       "27                     2.5  drizzle  \n",
       "28                     1.6     rain  \n",
       "29                     8.0     rain  "
      ]
     },
     "execution_count": 2,
     "metadata": {},
     "output_type": "execute_result"
    }
   ],
   "source": [
    "df=pd.read_csv(\"Seattle_WeatherPredicton.csv\",sep=\",\")\n",
    "temp_max=df[\"temp_max\"]\n",
    "precipitation=df[\"precipitation\"]\n",
    "\n",
    "\n",
    "df.head(30)"
   ]
  },
  {
   "cell_type": "code",
   "execution_count": 3,
   "id": "d0921d12",
   "metadata": {},
   "outputs": [],
   "source": [
    "x = np.array(temp_max).reshape(-1, 1)\n",
    "y = np.array(precipitation)"
   ]
  },
  {
   "cell_type": "code",
   "execution_count": 4,
   "id": "e221c45b",
   "metadata": {},
   "outputs": [
    {
     "data": {
      "text/html": [
       "<div>\n",
       "<style scoped>\n",
       "    .dataframe tbody tr th:only-of-type {\n",
       "        vertical-align: middle;\n",
       "    }\n",
       "\n",
       "    .dataframe tbody tr th {\n",
       "        vertical-align: top;\n",
       "    }\n",
       "\n",
       "    .dataframe thead th {\n",
       "        text-align: right;\n",
       "    }\n",
       "</style>\n",
       "<table border=\"1\" class=\"dataframe\">\n",
       "  <thead>\n",
       "    <tr style=\"text-align: right;\">\n",
       "      <th></th>\n",
       "      <th>precipitation</th>\n",
       "      <th>temp_max</th>\n",
       "      <th>temp_min</th>\n",
       "      <th>wind_speed</th>\n",
       "      <th>weather</th>\n",
       "    </tr>\n",
       "  </thead>\n",
       "  <tbody>\n",
       "    <tr>\n",
       "      <th>0</th>\n",
       "      <td>1.5</td>\n",
       "      <td>8.9</td>\n",
       "      <td>4.4</td>\n",
       "      <td>6.8</td>\n",
       "      <td>rain</td>\n",
       "    </tr>\n",
       "    <tr>\n",
       "      <th>1</th>\n",
       "      <td>0.0</td>\n",
       "      <td>16.7</td>\n",
       "      <td>4.4</td>\n",
       "      <td>3.1</td>\n",
       "      <td>sun</td>\n",
       "    </tr>\n",
       "    <tr>\n",
       "      <th>2</th>\n",
       "      <td>1.5</td>\n",
       "      <td>11.7</td>\n",
       "      <td>3.3</td>\n",
       "      <td>3.1</td>\n",
       "      <td>rain</td>\n",
       "    </tr>\n",
       "    <tr>\n",
       "      <th>3</th>\n",
       "      <td>0.0</td>\n",
       "      <td>10.6</td>\n",
       "      <td>2.8</td>\n",
       "      <td>2.1</td>\n",
       "      <td>sun</td>\n",
       "    </tr>\n",
       "    <tr>\n",
       "      <th>4</th>\n",
       "      <td>4.6</td>\n",
       "      <td>9.4</td>\n",
       "      <td>2.8</td>\n",
       "      <td>1.8</td>\n",
       "      <td>snow</td>\n",
       "    </tr>\n",
       "    <tr>\n",
       "      <th>...</th>\n",
       "      <td>...</td>\n",
       "      <td>...</td>\n",
       "      <td>...</td>\n",
       "      <td>...</td>\n",
       "      <td>...</td>\n",
       "    </tr>\n",
       "    <tr>\n",
       "      <th>270</th>\n",
       "      <td>4.1</td>\n",
       "      <td>7.8</td>\n",
       "      <td>3.3</td>\n",
       "      <td>3.2</td>\n",
       "      <td>rain</td>\n",
       "    </tr>\n",
       "    <tr>\n",
       "      <th>271</th>\n",
       "      <td>0.0</td>\n",
       "      <td>8.3</td>\n",
       "      <td>3.9</td>\n",
       "      <td>1.7</td>\n",
       "      <td>rain</td>\n",
       "    </tr>\n",
       "    <tr>\n",
       "      <th>272</th>\n",
       "      <td>1.5</td>\n",
       "      <td>5.0</td>\n",
       "      <td>3.3</td>\n",
       "      <td>1.7</td>\n",
       "      <td>rain</td>\n",
       "    </tr>\n",
       "    <tr>\n",
       "      <th>273</th>\n",
       "      <td>0.0</td>\n",
       "      <td>4.4</td>\n",
       "      <td>0.0</td>\n",
       "      <td>1.8</td>\n",
       "      <td>drizzle</td>\n",
       "    </tr>\n",
       "    <tr>\n",
       "      <th>274</th>\n",
       "      <td>0.0</td>\n",
       "      <td>3.3</td>\n",
       "      <td>-1.1</td>\n",
       "      <td>2.0</td>\n",
       "      <td>drizzle</td>\n",
       "    </tr>\n",
       "  </tbody>\n",
       "</table>\n",
       "<p>275 rows × 5 columns</p>\n",
       "</div>"
      ],
      "text/plain": [
       "     precipitation  temp_max  temp_min              wind_speed  weather\n",
       "0              1.5       8.9       4.4                     6.8     rain\n",
       "1              0.0      16.7       4.4                     3.1      sun\n",
       "2              1.5      11.7       3.3                     3.1     rain\n",
       "3              0.0      10.6       2.8                     2.1      sun\n",
       "4              4.6       9.4       2.8                     1.8     snow\n",
       "..             ...       ...       ...                     ...      ...\n",
       "270            4.1       7.8       3.3                     3.2     rain\n",
       "271            0.0       8.3       3.9                     1.7     rain\n",
       "272            1.5       5.0       3.3                     1.7     rain\n",
       "273            0.0       4.4       0.0                     1.8  drizzle\n",
       "274            0.0       3.3      -1.1                     2.0  drizzle\n",
       "\n",
       "[275 rows x 5 columns]"
      ]
     },
     "execution_count": 4,
     "metadata": {},
     "output_type": "execute_result"
    }
   ],
   "source": [
    "df.drop([\"date\"],axis=1)"
   ]
  },
  {
   "cell_type": "code",
   "execution_count": null,
   "id": "00eb0057",
   "metadata": {},
   "outputs": [],
   "source": []
  },
  {
   "cell_type": "code",
   "execution_count": 5,
   "id": "85de00fc",
   "metadata": {},
   "outputs": [
    {
     "name": "stdout",
     "output_type": "stream",
     "text": [
      "(275, 6)\n"
     ]
    }
   ],
   "source": [
    "print(df.shape)  #checking dimensions of Dataset"
   ]
  },
  {
   "cell_type": "code",
   "execution_count": 6,
   "id": "683ed541",
   "metadata": {},
   "outputs": [],
   "source": [
    "#Data Preprocessing to clean, organize the data  and read-to-feed to the Machine Learning model."
   ]
  },
  {
   "cell_type": "code",
   "execution_count": 7,
   "id": "f7b7d72d",
   "metadata": {},
   "outputs": [
    {
     "name": "stdout",
     "output_type": "stream",
     "text": [
      "<class 'pandas.core.frame.DataFrame'>\n",
      "RangeIndex: 275 entries, 0 to 274\n",
      "Data columns (total 6 columns):\n",
      " #   Column                  Non-Null Count  Dtype  \n",
      "---  ------                  --------------  -----  \n",
      " 0   date                    275 non-null    object \n",
      " 1   precipitation           275 non-null    float64\n",
      " 2   temp_max                275 non-null    float64\n",
      " 3   temp_min                275 non-null    float64\n",
      " 4               wind_speed  275 non-null    float64\n",
      " 5   weather                 275 non-null    object \n",
      "dtypes: float64(4), object(2)\n",
      "memory usage: 13.0+ KB\n",
      "None\n"
     ]
    }
   ],
   "source": [
    "print(df.info()) #converting raw data to a suitable format"
   ]
  },
  {
   "cell_type": "code",
   "execution_count": 8,
   "id": "cfbcf4d0",
   "metadata": {},
   "outputs": [
    {
     "data": {
      "text/plain": [
       "date                      0.0\n",
       "precipitation             0.0\n",
       "temp_max                  0.0\n",
       "temp_min                  0.0\n",
       "            wind_speed    0.0\n",
       "weather                   0.0\n",
       "dtype: float64"
      ]
     },
     "execution_count": 8,
     "metadata": {},
     "output_type": "execute_result"
    }
   ],
   "source": [
    "df.isnull().sum()*100/len(df)  #checking for null values"
   ]
  },
  {
   "cell_type": "code",
   "execution_count": 9,
   "id": "ec62b1c3",
   "metadata": {},
   "outputs": [],
   "source": [
    "df.precipitation=np.sqrt(df.precipitation )"
   ]
  },
  {
   "cell_type": "code",
   "execution_count": 10,
   "id": "d7a1a056",
   "metadata": {},
   "outputs": [
    {
     "data": {
      "text/plain": [
       "<bound method NDFrame._add_numeric_operations.<locals>.skew of                             date  precipitation  temp_max  temp_min  \\\n",
       "0                     04-01-2012       1.224745       8.9       4.4   \n",
       "1                     04-02-2012       0.000000      16.7       4.4   \n",
       "2                     04-03-2012       1.224745      11.7       3.3   \n",
       "3                     04-04-2012       0.000000      10.6       2.8   \n",
       "4                     04-05-2012       2.144761       9.4       2.8   \n",
       "..                           ...            ...       ...       ...   \n",
       "270                   12/27/2012       2.024846       7.8       3.3   \n",
       "271                   12/28/2012       0.000000       8.3       3.9   \n",
       "272                   12/29/2012       1.224745       5.0       3.3   \n",
       "273                   12/30/2012       0.000000       4.4       0.0   \n",
       "274                   12/31/2012       0.000000       3.3      -1.1   \n",
       "\n",
       "                 wind_speed  weather  \n",
       "0                       6.8     rain  \n",
       "1                       3.1      sun  \n",
       "2                       3.1     rain  \n",
       "3                       2.1      sun  \n",
       "4                       1.8     snow  \n",
       "..                      ...      ...  \n",
       "270                     3.2     rain  \n",
       "271                     1.7     rain  \n",
       "272                     1.7     rain  \n",
       "273                     1.8  drizzle  \n",
       "274                     2.0  drizzle  \n",
       "\n",
       "[275 rows x 6 columns]>"
      ]
     },
     "execution_count": 10,
     "metadata": {},
     "output_type": "execute_result"
    }
   ],
   "source": [
    "df.skew"
   ]
  },
  {
   "cell_type": "code",
   "execution_count": 11,
   "id": "f5008874",
   "metadata": {},
   "outputs": [
    {
     "data": {
      "text/plain": [
       "array(['rain', 'sun', 'snow', 'drizzle', 'fog'], dtype=object)"
      ]
     },
     "execution_count": 11,
     "metadata": {},
     "output_type": "execute_result"
    }
   ],
   "source": [
    "df.weather.unique()"
   ]
  },
  {
   "cell_type": "code",
   "execution_count": 12,
   "id": "486a3cc7",
   "metadata": {},
   "outputs": [
    {
     "data": {
      "image/png": "[encoded data removed]",
      "text/plain": [
       "<Figure size 432x288 with 1 Axes>"
      ]
     },
     "metadata": {
      "needs_background": "light"
     },
     "output_type": "display_data"
    }
   ],
   "source": [
    "df.precipitation.hist()\n",
    "plt.title('Distribution of precipitation')\n",
    "plt.xlabel('precipitation')\n",
    "plt.show()"
   ]
  },
  {
   "cell_type": "code",
   "execution_count": 13,
   "id": "00709fbc",
   "metadata": {},
   "outputs": [
    {
     "data": {
      "image/png": "[encoded data removed]",
      "text/plain": [
       "<Figure size 432x288 with 1 Axes>"
      ]
     },
     "metadata": {
      "needs_background": "light"
     },
     "output_type": "display_data"
    }
   ],
   "source": [
    "df.temp_max.hist()\n",
    "plt.title('Distribution of temp_max')\n",
    "plt.xlabel('temp_max')\n",
    "plt.show()"
   ]
  },
  {
   "cell_type": "code",
   "execution_count": 14,
   "id": "0f325035",
   "metadata": {},
   "outputs": [
    {
     "data": {
      "image/png": "[encoded data removed]",
      "text/plain": [
       "<Figure size 432x288 with 1 Axes>"
      ]
     },
     "metadata": {
      "needs_background": "light"
     },
     "output_type": "display_data"
    }
   ],
   "source": [
    "df.temp_min.hist()\n",
    "plt.title('Distribution of temp_min')\n",
    "plt.xlabel('temp_min')\n",
    "plt.show()"
   ]
  },
  {
   "cell_type": "code",
   "execution_count": 15,
   "id": "7f162c55",
   "metadata": {
    "scrolled": false
   },
   "outputs": [
    {
     "data": {
      "image/png": "[encoded data removed]",
      "text/plain": [
       "<Figure size 1080x1080 with 2 Axes>"
      ]
     },
     "metadata": {
      "needs_background": "light"
     },
     "output_type": "display_data"
    }
   ],
   "source": [
    "corrmat = df.corr()                               #Visualization to find correlations between the data\n",
    "plt.figure(figsize=(15,15))\n",
    "#plot heat map\n",
    "g=sns.heatmap(corrmat,annot=True, cmap='coolwarm')\n",
    "plt.show()"
   ]
  },
  {
   "cell_type": "code",
   "execution_count": 16,
   "id": "afac1d61",
   "metadata": {},
   "outputs": [
    {
     "data": {
      "text/plain": [
       "array(['rain', 'sun', 'snow', 'drizzle', 'fog'], dtype=object)"
      ]
     },
     "execution_count": 16,
     "metadata": {},
     "output_type": "execute_result"
    }
   ],
   "source": [
    "df.weather.unique()"
   ]
  },
  {
   "cell_type": "code",
   "execution_count": 17,
   "id": "1816af5a",
   "metadata": {},
   "outputs": [
    {
     "name": "stdout",
     "output_type": "stream",
     "text": [
      "Numerical Features Count 4\n",
      "Discrete feature Count 0\n",
      "Continuous feature Count 4\n",
      "Categorical feature Count 2\n"
     ]
    }
   ],
   "source": [
    "numerical_feature = [feature for feature in df.columns if df[feature].dtypes != 'O']\n",
    "discrete_feature=[feature for feature in numerical_feature if len(df[feature].unique())<25]\n",
    "continuous_feature = [feature for feature in numerical_feature if feature not in discrete_feature]\n",
    "categorical_feature = [feature for feature in df.columns if feature not in numerical_feature]\n",
    "print(\"Numerical Features Count {}\".format(len(numerical_feature)))\n",
    "print(\"Discrete feature Count {}\".format(len(discrete_feature)))\n",
    "print(\"Continuous feature Count {}\".format(len(continuous_feature)))\n",
    "print(\"Categorical feature Count {}\".format(len(categorical_feature)))"
   ]
  },
  {
   "cell_type": "code",
   "execution_count": 18,
   "id": "392e7dce",
   "metadata": {},
   "outputs": [
    {
     "data": {
      "text/plain": [
       "date                      0.0\n",
       "precipitation             0.0\n",
       "temp_max                  0.0\n",
       "temp_min                  0.0\n",
       "            wind_speed    0.0\n",
       "weather                   0.0\n",
       "dtype: float64"
      ]
     },
     "execution_count": 18,
     "metadata": {},
     "output_type": "execute_result"
    }
   ],
   "source": [
    "# Handle Missing Values\n",
    "df.isnull().sum()*100/len(df)"
   ]
  },
  {
   "cell_type": "code",
   "execution_count": 19,
   "id": "ba60052f",
   "metadata": {},
   "outputs": [
    {
     "name": "stdout",
     "output_type": "stream",
     "text": [
      "['precipitation', 'temp_max', 'temp_min', '            wind_speed']\n"
     ]
    }
   ],
   "source": [
    "print(numerical_feature)"
   ]
  },
  {
   "cell_type": "code",
   "execution_count": 20,
   "id": "148cd389",
   "metadata": {},
   "outputs": [],
   "source": [
    "def randomsampleimputation(df, variable):\n",
    "    df[variable]=df[variable]\n",
    "    random_sample=df[variable].dropna().sample(df[variable].isnull().sum(),random_state=0)\n",
    "    random_sample.index=df[df[variable].isnull()].index\n",
    "    df.loc[df[variable].isnull(),variable]=random_sample"
   ]
  },
  {
   "cell_type": "code",
   "execution_count": 21,
   "id": "b3703cb7",
   "metadata": {},
   "outputs": [],
   "source": [
    "randomsampleimputation(df, \"precipitation\")\n",
    "randomsampleimputation(df, \"temp_max\")\n",
    "randomsampleimputation(df, \"temp_min\")\n"
   ]
  },
  {
   "cell_type": "code",
   "execution_count": 22,
   "id": "63075565",
   "metadata": {},
   "outputs": [
    {
     "data": {
      "text/html": [
       "<div>\n",
       "<style scoped>\n",
       "    .dataframe tbody tr th:only-of-type {\n",
       "        vertical-align: middle;\n",
       "    }\n",
       "\n",
       "    .dataframe tbody tr th {\n",
       "        vertical-align: top;\n",
       "    }\n",
       "\n",
       "    .dataframe thead th {\n",
       "        text-align: right;\n",
       "    }\n",
       "</style>\n",
       "<table border=\"1\" class=\"dataframe\">\n",
       "  <thead>\n",
       "    <tr style=\"text-align: right;\">\n",
       "      <th></th>\n",
       "      <th>date</th>\n",
       "      <th>precipitation</th>\n",
       "      <th>temp_max</th>\n",
       "      <th>temp_min</th>\n",
       "      <th>wind_speed</th>\n",
       "      <th>weather</th>\n",
       "    </tr>\n",
       "  </thead>\n",
       "  <tbody>\n",
       "    <tr>\n",
       "      <th>0</th>\n",
       "      <td>04-01-2012</td>\n",
       "      <td>1.224745</td>\n",
       "      <td>8.9</td>\n",
       "      <td>4.4</td>\n",
       "      <td>6.8</td>\n",
       "      <td>rain</td>\n",
       "    </tr>\n",
       "    <tr>\n",
       "      <th>1</th>\n",
       "      <td>04-02-2012</td>\n",
       "      <td>0.000000</td>\n",
       "      <td>16.7</td>\n",
       "      <td>4.4</td>\n",
       "      <td>3.1</td>\n",
       "      <td>sun</td>\n",
       "    </tr>\n",
       "    <tr>\n",
       "      <th>2</th>\n",
       "      <td>04-03-2012</td>\n",
       "      <td>1.224745</td>\n",
       "      <td>11.7</td>\n",
       "      <td>3.3</td>\n",
       "      <td>3.1</td>\n",
       "      <td>rain</td>\n",
       "    </tr>\n",
       "    <tr>\n",
       "      <th>3</th>\n",
       "      <td>04-04-2012</td>\n",
       "      <td>0.000000</td>\n",
       "      <td>10.6</td>\n",
       "      <td>2.8</td>\n",
       "      <td>2.1</td>\n",
       "      <td>sun</td>\n",
       "    </tr>\n",
       "    <tr>\n",
       "      <th>4</th>\n",
       "      <td>04-05-2012</td>\n",
       "      <td>2.144761</td>\n",
       "      <td>9.4</td>\n",
       "      <td>2.8</td>\n",
       "      <td>1.8</td>\n",
       "      <td>snow</td>\n",
       "    </tr>\n",
       "    <tr>\n",
       "      <th>...</th>\n",
       "      <td>...</td>\n",
       "      <td>...</td>\n",
       "      <td>...</td>\n",
       "      <td>...</td>\n",
       "      <td>...</td>\n",
       "      <td>...</td>\n",
       "    </tr>\n",
       "    <tr>\n",
       "      <th>270</th>\n",
       "      <td>12/27/2012</td>\n",
       "      <td>2.024846</td>\n",
       "      <td>7.8</td>\n",
       "      <td>3.3</td>\n",
       "      <td>3.2</td>\n",
       "      <td>rain</td>\n",
       "    </tr>\n",
       "    <tr>\n",
       "      <th>271</th>\n",
       "      <td>12/28/2012</td>\n",
       "      <td>0.000000</td>\n",
       "      <td>8.3</td>\n",
       "      <td>3.9</td>\n",
       "      <td>1.7</td>\n",
       "      <td>rain</td>\n",
       "    </tr>\n",
       "    <tr>\n",
       "      <th>272</th>\n",
       "      <td>12/29/2012</td>\n",
       "      <td>1.224745</td>\n",
       "      <td>5.0</td>\n",
       "      <td>3.3</td>\n",
       "      <td>1.7</td>\n",
       "      <td>rain</td>\n",
       "    </tr>\n",
       "    <tr>\n",
       "      <th>273</th>\n",
       "      <td>12/30/2012</td>\n",
       "      <td>0.000000</td>\n",
       "      <td>4.4</td>\n",
       "      <td>0.0</td>\n",
       "      <td>1.8</td>\n",
       "      <td>drizzle</td>\n",
       "    </tr>\n",
       "    <tr>\n",
       "      <th>274</th>\n",
       "      <td>12/31/2012</td>\n",
       "      <td>0.000000</td>\n",
       "      <td>3.3</td>\n",
       "      <td>-1.1</td>\n",
       "      <td>2.0</td>\n",
       "      <td>drizzle</td>\n",
       "    </tr>\n",
       "  </tbody>\n",
       "</table>\n",
       "<p>275 rows × 6 columns</p>\n",
       "</div>"
      ],
      "text/plain": [
       "                            date  precipitation  temp_max  temp_min  \\\n",
       "0                     04-01-2012       1.224745       8.9       4.4   \n",
       "1                     04-02-2012       0.000000      16.7       4.4   \n",
       "2                     04-03-2012       1.224745      11.7       3.3   \n",
       "3                     04-04-2012       0.000000      10.6       2.8   \n",
       "4                     04-05-2012       2.144761       9.4       2.8   \n",
       "..                           ...            ...       ...       ...   \n",
       "270                   12/27/2012       2.024846       7.8       3.3   \n",
       "271                   12/28/2012       0.000000       8.3       3.9   \n",
       "272                   12/29/2012       1.224745       5.0       3.3   \n",
       "273                   12/30/2012       0.000000       4.4       0.0   \n",
       "274                   12/31/2012       0.000000       3.3      -1.1   \n",
       "\n",
       "                 wind_speed  weather  \n",
       "0                       6.8     rain  \n",
       "1                       3.1      sun  \n",
       "2                       3.1     rain  \n",
       "3                       2.1      sun  \n",
       "4                       1.8     snow  \n",
       "..                      ...      ...  \n",
       "270                     3.2     rain  \n",
       "271                     1.7     rain  \n",
       "272                     1.7     rain  \n",
       "273                     1.8  drizzle  \n",
       "274                     2.0  drizzle  \n",
       "\n",
       "[275 rows x 6 columns]"
      ]
     },
     "execution_count": 22,
     "metadata": {},
     "output_type": "execute_result"
    }
   ],
   "source": [
    "df"
   ]
  },
  {
   "cell_type": "code",
   "execution_count": 23,
   "id": "0d4b95f7",
   "metadata": {},
   "outputs": [
    {
     "name": "stderr",
     "output_type": "stream",
     "text": [
      "C:\\Users\\Lenovo\\AppData\\Local\\Programs\\Python\\Python39\\lib\\site-packages\\seaborn\\distributions.py:2619: FutureWarning: `distplot` is a deprecated function and will be removed in a future version. Please adapt your code to use either `displot` (a figure-level function with similar flexibility) or `histplot` (an axes-level function for histograms).\n",
      "  warnings.warn(msg, FutureWarning)\n"
     ]
    },
    {
     "data": {
      "image/png": "[encoded data removed]",
      "text/plain": [
       "<Figure size 432x288 with 1 Axes>"
      ]
     },
     "metadata": {
      "needs_background": "light"
     },
     "output_type": "display_data"
    },
    {
     "name": "stderr",
     "output_type": "stream",
     "text": [
      "C:\\Users\\Lenovo\\AppData\\Local\\Programs\\Python\\Python39\\lib\\site-packages\\seaborn\\distributions.py:2619: FutureWarning: `distplot` is a deprecated function and will be removed in a future version. Please adapt your code to use either `displot` (a figure-level function with similar flexibility) or `histplot` (an axes-level function for histograms).\n",
      "  warnings.warn(msg, FutureWarning)\n"
     ]
    },
    {
     "data": {
      "image/png": "[encoded data removed]",
      "text/plain": [
       "<Figure size 432x288 with 1 Axes>"
      ]
     },
     "metadata": {
      "needs_background": "light"
     },
     "output_type": "display_data"
    },
    {
     "name": "stderr",
     "output_type": "stream",
     "text": [
      "C:\\Users\\Lenovo\\AppData\\Local\\Programs\\Python\\Python39\\lib\\site-packages\\seaborn\\distributions.py:2619: FutureWarning: `distplot` is a deprecated function and will be removed in a future version. Please adapt your code to use either `displot` (a figure-level function with similar flexibility) or `histplot` (an axes-level function for histograms).\n",
      "  warnings.warn(msg, FutureWarning)\n"
     ]
    },
    {
     "data": {
      "image/png": "[encoded data removed]",
      "text/plain": [
       "<Figure size 432x288 with 1 Axes>"
      ]
     },
     "metadata": {
      "needs_background": "light"
     },
     "output_type": "display_data"
    },
    {
     "name": "stderr",
     "output_type": "stream",
     "text": [
      "C:\\Users\\Lenovo\\AppData\\Local\\Programs\\Python\\Python39\\lib\\site-packages\\seaborn\\distributions.py:2619: FutureWarning: `distplot` is a deprecated function and will be removed in a future version. Please adapt your code to use either `displot` (a figure-level function with similar flexibility) or `histplot` (an axes-level function for histograms).\n",
      "  warnings.warn(msg, FutureWarning)\n"
     ]
    },
    {
     "data": {
      "image/png": "[encoded data removed]",
      "text/plain": [
       "<Figure size 432x288 with 1 Axes>"
      ]
     },
     "metadata": {
      "needs_background": "light"
     },
     "output_type": "display_data"
    }
   ],
   "source": [
    "for feature in continuous_feature:\n",
    "    data=df.copy()\n",
    "    sns.distplot(df[feature])\n",
    "    plt.xlabel(feature)\n",
    "    plt.ylabel(\"Count\")\n",
    "    plt.title(feature)\n",
    "    plt.show()"
   ]
  },
  {
   "cell_type": "code",
   "execution_count": 24,
   "id": "18961147",
   "metadata": {},
   "outputs": [
    {
     "name": "stderr",
     "output_type": "stream",
     "text": [
      "C:\\Users\\Lenovo\\AppData\\Local\\Programs\\Python\\Python39\\lib\\site-packages\\seaborn\\_decorators.py:36: FutureWarning: Pass the following variable as a keyword arg: x. From version 0.12, the only valid positional argument will be `data`, and passing other arguments without an explicit keyword will result in an error or misinterpretation.\n",
      "  warnings.warn(\n",
      "C:\\Users\\Lenovo\\AppData\\Local\\Programs\\Python\\Python39\\lib\\site-packages\\seaborn\\_decorators.py:36: FutureWarning: Pass the following variable as a keyword arg: x. From version 0.12, the only valid positional argument will be `data`, and passing other arguments without an explicit keyword will result in an error or misinterpretation.\n",
      "  warnings.warn(\n",
      "C:\\Users\\Lenovo\\AppData\\Local\\Programs\\Python\\Python39\\lib\\site-packages\\seaborn\\_decorators.py:36: FutureWarning: Pass the following variable as a keyword arg: x. From version 0.12, the only valid positional argument will be `data`, and passing other arguments without an explicit keyword will result in an error or misinterpretation.\n",
      "  warnings.warn(\n",
      "C:\\Users\\Lenovo\\AppData\\Local\\Programs\\Python\\Python39\\lib\\site-packages\\seaborn\\_decorators.py:36: FutureWarning: Pass the following variable as a keyword arg: x. From version 0.12, the only valid positional argument will be `data`, and passing other arguments without an explicit keyword will result in an error or misinterpretation.\n",
      "  warnings.warn(\n"
     ]
    },
    {
     "data": {
      "image/png": "[encoded data removed]",
      "text/plain": [
       "<Figure size 432x288 with 1 Axes>"
      ]
     },
     "metadata": {
      "needs_background": "light"
     },
     "output_type": "display_data"
    }
   ],
   "source": [
    "for feature in continuous_feature:\n",
    "    data=df.copy()\n",
    "    sns.boxplot(data[feature])\n",
    "    plt.title(feature)"
   ]
  },
  {
   "cell_type": "code",
   "execution_count": 25,
   "id": "ed8897d6",
   "metadata": {},
   "outputs": [],
   "source": [
    "from sklearn.model_selection import train_test_split \n",
    "xtrain, xtest, ytrain, ytest = train_test_split(  x, y, test_size=1/2, random_state=1 )"
   ]
  },
  {
   "cell_type": "code",
   "execution_count": 26,
   "id": "393bfc27",
   "metadata": {},
   "outputs": [
    {
     "data": {
      "text/plain": [
       "Index(['date', 'precipitation', 'temp_max', 'temp_min',\n",
       "       '            wind_speed', 'weather'],\n",
       "      dtype='object')"
      ]
     },
     "execution_count": 26,
     "metadata": {},
     "output_type": "execute_result"
    }
   ],
   "source": [
    "df.columns"
   ]
  },
  {
   "cell_type": "code",
   "execution_count": 27,
   "id": "5d7e9ab0",
   "metadata": {},
   "outputs": [
    {
     "data": {
      "text/plain": [
       "LinearRegression()"
      ]
     },
     "execution_count": 27,
     "metadata": {},
     "output_type": "execute_result"
    }
   ],
   "source": [
    "from sklearn.linear_model import LinearRegression \n",
    "regressor = LinearRegression()\n",
    "regressor.fit( xtrain, ytrain )"
   ]
  },
  {
   "cell_type": "code",
   "execution_count": 28,
   "id": "804379e3",
   "metadata": {},
   "outputs": [
    {
     "data": {
      "text/plain": [
       "(array([-0.33190618]), 8.963659171104002)"
      ]
     },
     "execution_count": 28,
     "metadata": {},
     "output_type": "execute_result"
    }
   ],
   "source": [
    "regressor.coef_ , regressor.intercept_   #y = mx + c  where m is coefficient , c is intercept"
   ]
  },
  {
   "cell_type": "code",
   "execution_count": 29,
   "id": "c9d9b3e5",
   "metadata": {},
   "outputs": [
    {
     "data": {
      "text/plain": [
       "(array([8.3]), 0.0, 6.208837901991238)"
      ]
     },
     "execution_count": 29,
     "metadata": {},
     "output_type": "execute_result"
    }
   ],
   "source": [
    "actualValue = ytrain\n",
    "predictedValue = regressor.predict(xtrain) \n",
    "xtrain[0], actualValue[0] , predictedValue[0]"
   ]
  },
  {
   "cell_type": "code",
   "execution_count": 30,
   "id": "8ded8d2e",
   "metadata": {},
   "outputs": [
    {
     "data": {
      "text/plain": [
       "array([6.2088379])"
      ]
     },
     "execution_count": 30,
     "metadata": {},
     "output_type": "execute_result"
    }
   ],
   "source": [
    "regressor.coef_ * xtrain[0] + regressor.intercept_ #y = mx + c"
   ]
  },
  {
   "cell_type": "code",
   "execution_count": 31,
   "id": "661ce431",
   "metadata": {},
   "outputs": [
    {
     "data": {
      "text/plain": [
       "0.6462013550360043"
      ]
     },
     "execution_count": 31,
     "metadata": {},
     "output_type": "execute_result"
    }
   ],
   "source": [
    "np.sqrt ( sum( abs( actualValue**2 - predictedValue**2 ) ) ) / len( xtrain )   #0.638|\n",
    "#Finding Root Mean Square Error"
   ]
  },
  {
   "cell_type": "code",
   "execution_count": 32,
   "id": "1d211c1d",
   "metadata": {},
   "outputs": [
    {
     "data": {
      "image/png": "[encoded data removed]",
      "text/plain": [
       "<Figure size 432x288 with 1 Axes>"
      ]
     },
     "metadata": {
      "needs_background": "light"
     },
     "output_type": "display_data"
    }
   ],
   "source": [
    "#Graph\n",
    "# Actual values\n",
    "plt.scatter(xtrain, ytrain, color='blue') # x = xtrain , y = ytrain\n",
    "\n",
    "#Predicted values\n",
    "prediction = regressor.predict(xtrain)\n",
    "plt.plot(xtrain, prediction , color = 'green') # y = prediction\n",
    "\n",
    "plt.title (\"Prediction for Training Dataset\")\n",
    "plt.xlabel(\"temp_max in degrees\"), plt.ylabel(\"Precipitation\")\n",
    "plt.show()"
   ]
  },
  {
   "cell_type": "code",
   "execution_count": 33,
   "id": "79011971",
   "metadata": {},
   "outputs": [
    {
     "data": {
      "image/png": "[encoded data removed]",
      "text/plain": [
       "<Figure size 432x288 with 1 Axes>"
      ]
     },
     "metadata": {
      "needs_background": "light"
     },
     "output_type": "display_data"
    }
   ],
   "source": [
    "plt.scatter(xtest, ytest, color= 'blue')\n",
    "\n",
    "plt.plot(xtrain, regressor.predict(xtrain), color = 'orange')\n",
    "\n",
    "plt.title (\"Training Dataset:\")\n",
    "plt.xlabel(\"max_temp in degree\"), plt.ylabel(\"Precipitation\")\n",
    "plt.show()"
   ]
  },
  {
   "cell_type": "code",
   "execution_count": null,
   "id": "8a1c85d0",
   "metadata": {},
   "outputs": [],
   "source": []
  },
  {
   "cell_type": "code",
   "execution_count": null,
   "id": "4e122072",
   "metadata": {},
   "outputs": [],
   "source": []
  }
 ],
 "metadata": {
  "kernelspec": {
   "display_name": "Python 3 (ipykernel)",
   "language": "python",
   "name": "python3"
  },
  "language_info": {
   "codemirror_mode": {
    "name": "ipython",
    "version": 3
   },
   "file_extension": ".py",
   "mimetype": "text/x-python",
   "name": "python",
   "nbconvert_exporter": "python",
   "pygments_lexer": "ipython3",
   "version": "3.9.10"
  }
 },
 "nbformat": 4,
 "nbformat_minor": 5
}
